{
 "cells": [
  {
   "cell_type": "markdown",
   "id": "43ebb639",
   "metadata": {},
   "source": [
    "Dimensionality Reduction with PCA\n",
    "<p/>\n",
    "auther: Michael Stephenson\n"
   ]
  },
  {
   "cell_type": "markdown",
   "id": "323a4d47",
   "metadata": {},
   "source": [
    "### Part I: Research Question\n",
    "\n",
    "#### A. Research Understanding and Question\n",
    "\n",
    "<p/>\n",
    "\n",
    "A telecommunications business records numerous variables as a result of its business operations. New customers sign up for services, and current customers sometimes cancel. The fact some customers leave is called churn for the scope of this case study. Business Analysts observe and report on variables contained in a business process which is then translated to the database to make a permanent business record. When a customer cancels their current service, the company loses profitability that can be reduced to a monthly average. Preventing cancelations from occurring in the business pipeline will save the company money and require less output of cash to acquire new customers in the long term. Something as simple as identifying how dissatisfaction occurs when a customer cancels the service would therefore be beneficial to the business's existence. For example, a prescriptive view of operations using data could lead to an advantageous conclusion using machine learning. However, the data gathered as a business operation sometimes do not account for the fact that variables are like one another in the process of business and are problematic to the discovery of trends due to correlation and multicollinearity.  as a result. Eliminating correlated data with dimensionality reduction will provide a more precise dataset at the cost of removing machine learning options in the future if there are not enough variables remaining. This study asks the question of exactly how many variables are possible using PCA dimensionality reduction on the dataset? \n",
    "\n",
    "\n",
    "\n",
    "##### B. Purpose and Goals.\n",
    "\n",
    "Given the dataset is a telecommunications domain, it is a relevant question to consider the potential benefits of using modern business intelligence tools, like machine learning, to yield insights from database information a company collects as a regular course of business. The goal of a Principal Component Analysis (PCA) is to reduce the dimensions or correlated data within a dataset. By doing so a technology such as machine learning will run more effectively with a smaller and precision focused dataset."
   ]
  },
  {
   "cell_type": "markdown",
   "id": "9b8d1e08",
   "metadata": {},
   "source": [
    "### Part II: Method Justification\n"
   ]
  },
  {
   "cell_type": "markdown",
   "id": "123b8071",
   "metadata": {},
   "source": [
    "#### PCA analysis and Outcome:\n",
    "\n",
    "<p/>\n",
    "\n",
    "PCA is a simple dimensionality reduction technique. It transforms the columns of a dataset into a new set of features called Principal Components (PCs). Principal Components (PC) occur from changing information distributed across many columns. The first few Principal Components explain a sizeable portion of the total information (variance). (PCA 2019) Machine learning algorithms are faster using Principal Component Analysis (PCA). PCA is also useful for data visualization. PCA can reduce 4-dimensional data into 2 or 3 dimensions. PCA is affected by scale, so you need to scale the features in your data before applying PCA. Use StandardScaler to help you standardize the dataset's features onto a unit scale. The explained variance tells how much attributing information (variance) is a principal component. While PCA is essential for converting 4-dimensional space to 2-dimensional space, you lose some variance. PCA can be used to speed up machine learning algorithms. (Galarnyk 2017)\n",
    "\n",
    "<p/>\n",
    "\n",
    "PCA is not a feature selection technique. Instead, it is a feature combination technique. Each Principal Component is a weighted additive pattern of all the columns in the original dataset. Think of a dataset with only two columns and find a new column that better represents the data contributed by a hypothetical column defined as a line that passes through these points; this is what PCA does. Linear combination describes such a line as two columns. Computing the projection of any point on this hypothetical line is then possible. This projection of any point is called a unit vector and eventually becomes the weight of the principal component. The new column line should be in a direction that minimizes the perpendicular distance of each linear combination point from the line. The new column line should also be the most significant linear regression or unit vectors cluster. Minimizing the mean perpendicular distance from the line for all points is the objective, proving that the equation line reaches a minimum when the value equals the Eigen Vector. Eigen Vectors can numbers as many as columns in the dataset. And they are orthogonal to each other. The Principal Components are the new coordinates of points for the new axes. We rotate the original XY axis to match the direction of the unit vectors to compute the Principal Components. (PCA 2019)\n",
    "\n",
    "\n",
    "<p/>\n",
    "\n",
    "Note: The outcome of PCA is a dimensionality reduced dataset.\n",
    "\n",
    "<p/>\n",
    "\n",
    "Assumptions made in PCA are:\n",
    "1.\tData must demonstrate a linear relationship among variables.\n",
    "2.\tVariables with low variance are noisy; likewise, high variance indicates importance. \n",
    "3.\tAssessment of variables should be a ratio of 5:1 with a minim of 150 observations covered within the sample data.\n",
    "4.\tOutliers will degrade the results of a machine learning algorithm.\n",
    "5.\tAfter PCA, a correlated and reduced feature set will represent the original data with fewer detentions.\n",
    "\n",
    "(PCA in Machine Learning: Assumptions,2020)\n",
    "\n"
   ]
  },
  {
   "cell_type": "markdown",
   "id": "a20385b3",
   "metadata": {},
   "source": [
    "### Part III: Data Preparation\n"
   ]
  },
  {
   "cell_type": "markdown",
   "id": "e191d2c3",
   "metadata": {},
   "source": [
    "#### C1. Data Preprocessing Goal\n",
    "\n",
    "<p/>\n",
    "\n",
    "The data is made up of continuous and categorical data. Missing continuous data can be imputed with the mean but the categorical data has no central tendency therefore will only be dropped. Categorical data will then be encoded for computer data operations, nominal, ordinal, and binary respectively.  \n",
    "\n",
    "<p/>\n",
    "\n",
    "#### C2. Initial data classification: \n",
    "\n",
    "<p/>\n",
    "    \n",
    "Categorical Predictor Data:\n",
    "    \n",
    "<p/>\n",
    "    \n",
    "<ul>\n",
    "<li>Education</li>\n",
    "<li>Employment</li>\n",
    "<li>Marital</li>\n",
    "<li>Gender</li>\n",
    "<li>Churn</li>\n",
    "<li>Techie</li>\n",
    "<li>Contract</li>\n",
    "<li>Port_modem</li>\n",
    "<li>Tablet</li>\n",
    "<li>InternetService</li>\n",
    "<li>Phone</li>\n",
    "<li>Multiple</li>\n",
    "<li>OnlineSecurity</li>\n",
    "<li>OnlineBackup</li>\n",
    "<li>DeviceProtection</li>\n",
    "<li>TechSupport</li>\n",
    "<li>StreamingTV</li>\n",
    "<li>StreamingMovies</li>\n",
    "<li>PaperlessBilling</li>\n",
    "<li>PaymentMethod</li>\n",
    "<li>Multiple</li>\n",
    "</ul>\n",
    "    \n",
    "<p/>\n",
    "\n",
    "<p/>\n",
    "    \n",
    "Continuous Predictor Data <p/>\n",
    "<ul>\n",
    "<li> Children</li>\n",
    "<li> Age</li>\n",
    "<li> Income</li>\n",
    "<li> Outage_sec_perweek</li>\n",
    "<li> Tenure</li>\n",
    "<li> MonthlyCharge</li>\n",
    "<li> Bandwidth_GB_Year</li>\n",
    "<li>Multiple</li>\n",
    "</ul>\n",
    "    \n",
    "<p/>\n",
    "\n",
    "<p/>\n",
    "    \n",
    "Discrete Ordinal Predictor Data \n",
    "    \n",
    "<p/>\n",
    "<ul>\n",
    "<li>Yearly_equip_failure</li>\n",
    "<li>Timely_Response</li>\n",
    "<li>Timely_Fixes</li>\n",
    "<li>Timely_Replacements</li>\n",
    "<li>Respectful_Response</li>\n",
    "<li>Options</li>\n",
    "<li> Courteous_Exchange</li>\n",
    "<li>Active_Listening</li>\n",
    "</ul>\n",
    "    \n",
    "<p/>\n",
    "\n",
    " \n"
   ]
  },
  {
   "cell_type": "markdown",
   "id": "9033fa03",
   "metadata": {},
   "source": [
    "#### C3. Steps to prepare the data for the analysis:\n",
    "\n",
    "<p/>\n",
    "The data cleaning process will begin with numeric feature scaling in numeric data. By changing the original variables to a similar scale to improve the interpretation of coefficients. Missing or faulty data can either make a system condition that throws an error or ignores the missing data to finish the computation, passively through standardization. Otherwise, missing data that is obvious to solving numeric matrices will be filtered by specific pattern of missing values. For example, “Not a Number” or (NaN) is present in Python arrays for missing numeric values and can be replaced with zero. Consistency of imputing data will be observed when working with both training and production data of either categoric or numeric types. Missing values can also be tracked for patterns to indicate if a bias is present within the data. (WGU, 2021) <p/>\n",
    "Outliers will be addressed boxplots. Since outliers or anomalies are different from the rest of the data and represent an unusual case by mistake or issue that rarely occurs, imputing of deletion will be used to prevent distortions of a regression’s coefficient. (WGU, 2021) <p/>\n"
   ]
  },
  {
   "cell_type": "code",
   "execution_count": 1,
   "id": "f2efffd9",
   "metadata": {},
   "outputs": [],
   "source": [
    "# Import Libraries\n",
    "import pandas as pd\n",
    "import numpy as np\n",
    "import matplotlib.pyplot as plt\n",
    "%matplotlib inline \n",
    "# Ignore Warning Code\n",
    "import warnings\n",
    "warnings.filterwarnings('ignore')"
   ]
  },
  {
   "cell_type": "code",
   "execution_count": 2,
   "id": "1be9a7eb",
   "metadata": {},
   "outputs": [
    {
     "data": {
      "text/html": [
       "<div>\n",
       "<style scoped>\n",
       "    .dataframe tbody tr th:only-of-type {\n",
       "        vertical-align: middle;\n",
       "    }\n",
       "\n",
       "    .dataframe tbody tr th {\n",
       "        vertical-align: top;\n",
       "    }\n",
       "\n",
       "    .dataframe thead th {\n",
       "        text-align: right;\n",
       "    }\n",
       "</style>\n",
       "<table border=\"1\" class=\"dataframe\">\n",
       "  <thead>\n",
       "    <tr style=\"text-align: right;\">\n",
       "      <th></th>\n",
       "      <th>CaseOrder</th>\n",
       "      <th>Customer_id</th>\n",
       "      <th>Interaction</th>\n",
       "      <th>UID</th>\n",
       "      <th>City</th>\n",
       "      <th>State</th>\n",
       "      <th>County</th>\n",
       "      <th>Zip</th>\n",
       "      <th>Lat</th>\n",
       "      <th>Lng</th>\n",
       "      <th>...</th>\n",
       "      <th>MonthlyCharge</th>\n",
       "      <th>Bandwidth_GB_Year</th>\n",
       "      <th>Item1</th>\n",
       "      <th>Item2</th>\n",
       "      <th>Item3</th>\n",
       "      <th>Item4</th>\n",
       "      <th>Item5</th>\n",
       "      <th>Item6</th>\n",
       "      <th>Item7</th>\n",
       "      <th>Item8</th>\n",
       "    </tr>\n",
       "  </thead>\n",
       "  <tbody>\n",
       "    <tr>\n",
       "      <th>0</th>\n",
       "      <td>1</td>\n",
       "      <td>K409198</td>\n",
       "      <td>aa90260b-4141-4a24-8e36-b04ce1f4f77b</td>\n",
       "      <td>e885b299883d4f9fb18e39c75155d990</td>\n",
       "      <td>Point Baker</td>\n",
       "      <td>AK</td>\n",
       "      <td>Prince of Wales-Hyder</td>\n",
       "      <td>99927</td>\n",
       "      <td>56.251</td>\n",
       "      <td>-133.37571</td>\n",
       "      <td>...</td>\n",
       "      <td>172.455519</td>\n",
       "      <td>904.53611</td>\n",
       "      <td>5</td>\n",
       "      <td>5</td>\n",
       "      <td>5</td>\n",
       "      <td>3</td>\n",
       "      <td>4</td>\n",
       "      <td>4</td>\n",
       "      <td>3</td>\n",
       "      <td>4</td>\n",
       "    </tr>\n",
       "  </tbody>\n",
       "</table>\n",
       "<p>1 rows × 50 columns</p>\n",
       "</div>"
      ],
      "text/plain": [
       "   CaseOrder Customer_id                           Interaction  \\\n",
       "0          1     K409198  aa90260b-4141-4a24-8e36-b04ce1f4f77b   \n",
       "\n",
       "                                UID         City State                 County  \\\n",
       "0  e885b299883d4f9fb18e39c75155d990  Point Baker    AK  Prince of Wales-Hyder   \n",
       "\n",
       "     Zip     Lat        Lng  ...  MonthlyCharge Bandwidth_GB_Year Item1 Item2  \\\n",
       "0  99927  56.251 -133.37571  ...     172.455519         904.53611     5     5   \n",
       "\n",
       "   Item3  Item4  Item5 Item6 Item7 Item8  \n",
       "0      5      3      4     4     3     4  \n",
       "\n",
       "[1 rows x 50 columns]"
      ]
     },
     "execution_count": 2,
     "metadata": {},
     "output_type": "execute_result"
    }
   ],
   "source": [
    "# import data set\n",
    "dataset = pd.read_csv('churn_data.csv')\n",
    "dataset.head(1)"
   ]
  },
  {
   "cell_type": "code",
   "execution_count": 3,
   "id": "f370fbc5",
   "metadata": {},
   "outputs": [
    {
     "data": {
      "text/plain": [
       "CaseOrder                 int64\n",
       "Customer_id              object\n",
       "Interaction              object\n",
       "UID                      object\n",
       "City                     object\n",
       "State                    object\n",
       "County                   object\n",
       "Zip                       int64\n",
       "Lat                     float64\n",
       "Lng                     float64\n",
       "Population                int64\n",
       "Area                     object\n",
       "TimeZone                 object\n",
       "Job                      object\n",
       "Children                  int64\n",
       "Age                       int64\n",
       "Income                  float64\n",
       "Marital                  object\n",
       "Gender                   object\n",
       "Churn                    object\n",
       "Outage_sec_perweek      float64\n",
       "Email                     int64\n",
       "Contacts                  int64\n",
       "Yearly_equip_failure      int64\n",
       "Techie                   object\n",
       "Contract                 object\n",
       "Port_modem               object\n",
       "Tablet                   object\n",
       "InternetService          object\n",
       "Phone                    object\n",
       "Multiple                 object\n",
       "OnlineSecurity           object\n",
       "OnlineBackup             object\n",
       "DeviceProtection         object\n",
       "TechSupport              object\n",
       "StreamingTV              object\n",
       "StreamingMovies          object\n",
       "PaperlessBilling         object\n",
       "PaymentMethod            object\n",
       "Tenure                  float64\n",
       "MonthlyCharge           float64\n",
       "Bandwidth_GB_Year       float64\n",
       "Item1                     int64\n",
       "Item2                     int64\n",
       "Item3                     int64\n",
       "Item4                     int64\n",
       "Item5                     int64\n",
       "Item6                     int64\n",
       "Item7                     int64\n",
       "Item8                     int64\n",
       "dtype: object"
      ]
     },
     "execution_count": 3,
     "metadata": {},
     "output_type": "execute_result"
    }
   ],
   "source": [
    "# identify features\n",
    "dataset.dtypes"
   ]
  },
  {
   "cell_type": "markdown",
   "id": "880893ae",
   "metadata": {},
   "source": [
    "Step 1. Separate the categorical and numeric data types."
   ]
  },
  {
   "cell_type": "code",
   "execution_count": 4,
   "id": "1fe77780",
   "metadata": {},
   "outputs": [
    {
     "name": "stdout",
     "output_type": "stream",
     "text": [
      "Numeric Data Types\n",
      "Index(['CaseOrder', 'Zip', 'Lat', 'Lng', 'Population', 'Children', 'Age',\n",
      "       'Income', 'Outage_sec_perweek', 'Email', 'Contacts',\n",
      "       'Yearly_equip_failure', 'Tenure', 'MonthlyCharge', 'Bandwidth_GB_Year',\n",
      "       'Item1', 'Item2', 'Item3', 'Item4', 'Item5', 'Item6', 'Item7', 'Item8'],\n",
      "      dtype='object')\n",
      "Categoric Data Types\n",
      "Index(['Customer_id', 'Interaction', 'UID', 'City', 'State', 'County', 'Area',\n",
      "       'TimeZone', 'Job', 'Marital', 'Gender', 'Churn', 'Techie', 'Contract',\n",
      "       'Port_modem', 'Tablet', 'InternetService', 'Phone', 'Multiple',\n",
      "       'OnlineSecurity', 'OnlineBackup', 'DeviceProtection', 'TechSupport',\n",
      "       'StreamingTV', 'StreamingMovies', 'PaperlessBilling', 'PaymentMethod'],\n",
      "      dtype='object')\n"
     ]
    }
   ],
   "source": [
    "# reducing the data into a collection of categorical and numeric data\n",
    "numeric_data = dataset.columns[dataset.dtypes != 'object']\n",
    "category_data = dataset.columns[dataset.dtypes == 'object']\n",
    "print('Numeric Data Types')\n",
    "print(numeric_data)\n",
    "print('Categoric Data Types')\n",
    "print(category_data)"
   ]
  },
  {
   "cell_type": "markdown",
   "id": "5f23ec84",
   "metadata": {},
   "source": [
    "Step 1-a. Drop data not suported for PCA."
   ]
  },
  {
   "cell_type": "code",
   "execution_count": 5,
   "id": "582ff79c",
   "metadata": {},
   "outputs": [
    {
     "data": {
      "text/html": [
       "<div>\n",
       "<style scoped>\n",
       "    .dataframe tbody tr th:only-of-type {\n",
       "        vertical-align: middle;\n",
       "    }\n",
       "\n",
       "    .dataframe tbody tr th {\n",
       "        vertical-align: top;\n",
       "    }\n",
       "\n",
       "    .dataframe thead th {\n",
       "        text-align: right;\n",
       "    }\n",
       "</style>\n",
       "<table border=\"1\" class=\"dataframe\">\n",
       "  <thead>\n",
       "    <tr style=\"text-align: right;\">\n",
       "      <th></th>\n",
       "      <th>CaseOrder</th>\n",
       "      <th>Zip</th>\n",
       "      <th>Lat</th>\n",
       "      <th>Lng</th>\n",
       "      <th>Population</th>\n",
       "      <th>Children</th>\n",
       "      <th>Age</th>\n",
       "      <th>Income</th>\n",
       "      <th>Outage_sec_perweek</th>\n",
       "      <th>Email</th>\n",
       "      <th>Contacts</th>\n",
       "      <th>Yearly_equip_failure</th>\n",
       "      <th>Tenure</th>\n",
       "      <th>MonthlyCharge</th>\n",
       "      <th>Bandwidth_GB_Year</th>\n",
       "    </tr>\n",
       "  </thead>\n",
       "  <tbody>\n",
       "    <tr>\n",
       "      <th>0</th>\n",
       "      <td>1</td>\n",
       "      <td>99927</td>\n",
       "      <td>56.251</td>\n",
       "      <td>-133.37571</td>\n",
       "      <td>38</td>\n",
       "      <td>0</td>\n",
       "      <td>68</td>\n",
       "      <td>28561.99</td>\n",
       "      <td>7.978323</td>\n",
       "      <td>10</td>\n",
       "      <td>0</td>\n",
       "      <td>1</td>\n",
       "      <td>6.795513</td>\n",
       "      <td>172.455519</td>\n",
       "      <td>904.53611</td>\n",
       "    </tr>\n",
       "  </tbody>\n",
       "</table>\n",
       "</div>"
      ],
      "text/plain": [
       "   CaseOrder    Zip     Lat        Lng  Population  Children  Age    Income  \\\n",
       "0          1  99927  56.251 -133.37571          38         0   68  28561.99   \n",
       "\n",
       "   Outage_sec_perweek  Email  Contacts  Yearly_equip_failure    Tenure  \\\n",
       "0            7.978323     10         0                     1  6.795513   \n",
       "\n",
       "   MonthlyCharge  Bandwidth_GB_Year  \n",
       "0     172.455519          904.53611  "
      ]
     },
     "execution_count": 5,
     "metadata": {},
     "output_type": "execute_result"
    }
   ],
   "source": [
    "# reducing the data into a collection of categorical and numeric data\n",
    "\n",
    "#drop ordinal data\n",
    "indexes=['Item1','Item2','Item3','Item4','Item5','Item6', 'Item7', 'Item8' ]\n",
    "for x in indexes:\n",
    "    if x in dataset.columns:\n",
    "        dataset.drop(x, axis=1, inplace=True)\n",
    "\n",
    "#drop categorical data\n",
    "dataset.drop(dataset[category_data], axis=1, inplace=True)\n",
    "dataset.head(1)"
   ]
  },
  {
   "cell_type": "markdown",
   "id": "89d3f79f",
   "metadata": {},
   "source": [
    "Step 1-b. Remove unnecessary continuous variables in the dataset:\n",
    "<p/>\n",
    "<code> 'CaseOrder','Zip','Lat','Lng','Email', 'Contacts'<code/> "
   ]
  },
  {
   "cell_type": "code",
   "execution_count": 6,
   "id": "7158e9d8",
   "metadata": {},
   "outputs": [],
   "source": [
    "#drop continuous variables\n",
    "indexes=['CaseOrder','Zip','Lat','Lng','Email', 'Contacts' ]\n",
    "for x in indexes:\n",
    "    if x in dataset.columns:\n",
    "        dataset.drop(x, axis=1, inplace=True)"
   ]
  },
  {
   "cell_type": "code",
   "execution_count": 7,
   "id": "855eb8ba",
   "metadata": {},
   "outputs": [
    {
     "data": {
      "text/plain": [
       "Population                int64\n",
       "Children                  int64\n",
       "Age                       int64\n",
       "Income                  float64\n",
       "Outage_sec_perweek      float64\n",
       "Yearly_equip_failure      int64\n",
       "Tenure                  float64\n",
       "MonthlyCharge           float64\n",
       "Bandwidth_GB_Year       float64\n",
       "dtype: object"
      ]
     },
     "execution_count": 7,
     "metadata": {},
     "output_type": "execute_result"
    }
   ],
   "source": [
    "# remaining features\n",
    "dataset.dtypes"
   ]
  },
  {
   "cell_type": "markdown",
   "id": "7a5cd670",
   "metadata": {},
   "source": [
    "Step 2. Drop duplicated data:"
   ]
  },
  {
   "cell_type": "code",
   "execution_count": 8,
   "id": "18eae08b",
   "metadata": {},
   "outputs": [],
   "source": [
    "#drop duplicates\n",
    "dataset.drop_duplicates().reset_index(drop=True,inplace=True)"
   ]
  },
  {
   "cell_type": "markdown",
   "id": "069c0c8e",
   "metadata": {},
   "source": [
    "Step 3. Drop all rows with missing categorical and numeric data, because imputing it results in a linear pattern within the residual continuous data, where it should be random, and imputed categorical data otherwise makes no sense."
   ]
  },
  {
   "cell_type": "code",
   "execution_count": 9,
   "id": "ccbb38ae",
   "metadata": {},
   "outputs": [],
   "source": [
    "dataset.dropna(inplace=True)"
   ]
  },
  {
   "cell_type": "markdown",
   "id": "aa312ecb",
   "metadata": {},
   "source": [
    "Verify no null values remain."
   ]
  },
  {
   "cell_type": "code",
   "execution_count": 10,
   "id": "30bb0f26",
   "metadata": {},
   "outputs": [
    {
     "name": "stdout",
     "output_type": "stream",
     "text": [
      "<class 'pandas.core.frame.DataFrame'>\n",
      "Int64Index: 10000 entries, 0 to 9999\n",
      "Data columns (total 9 columns):\n",
      " #   Column                Non-Null Count  Dtype  \n",
      "---  ------                --------------  -----  \n",
      " 0   Population            10000 non-null  int64  \n",
      " 1   Children              10000 non-null  int64  \n",
      " 2   Age                   10000 non-null  int64  \n",
      " 3   Income                10000 non-null  float64\n",
      " 4   Outage_sec_perweek    10000 non-null  float64\n",
      " 5   Yearly_equip_failure  10000 non-null  int64  \n",
      " 6   Tenure                10000 non-null  float64\n",
      " 7   MonthlyCharge         10000 non-null  float64\n",
      " 8   Bandwidth_GB_Year     10000 non-null  float64\n",
      "dtypes: float64(5), int64(4)\n",
      "memory usage: 781.2 KB\n"
     ]
    }
   ],
   "source": [
    "dataset.info()"
   ]
  },
  {
   "cell_type": "markdown",
   "id": "03110508",
   "metadata": {},
   "source": [
    "Step 4. Create a reduced dataset for Normalization."
   ]
  },
  {
   "cell_type": "code",
   "execution_count": 11,
   "id": "8e4e0ce3",
   "metadata": {},
   "outputs": [
    {
     "name": "stdout",
     "output_type": "stream",
     "text": [
      "Index(['Population', 'Children', 'Age', 'Income', 'Outage_sec_perweek',\n",
      "       'Yearly_equip_failure', 'Tenure', 'MonthlyCharge', 'Bandwidth_GB_Year'],\n",
      "      dtype='object')\n"
     ]
    }
   ],
   "source": [
    "print(dataset.columns[dataset.dtypes != 'object'])"
   ]
  },
  {
   "cell_type": "code",
   "execution_count": 12,
   "id": "41b8a8d7",
   "metadata": {},
   "outputs": [
    {
     "data": {
      "text/html": [
       "<div>\n",
       "<style scoped>\n",
       "    .dataframe tbody tr th:only-of-type {\n",
       "        vertical-align: middle;\n",
       "    }\n",
       "\n",
       "    .dataframe tbody tr th {\n",
       "        vertical-align: top;\n",
       "    }\n",
       "\n",
       "    .dataframe thead th {\n",
       "        text-align: right;\n",
       "    }\n",
       "</style>\n",
       "<table border=\"1\" class=\"dataframe\">\n",
       "  <thead>\n",
       "    <tr style=\"text-align: right;\">\n",
       "      <th></th>\n",
       "      <th>Population</th>\n",
       "      <th>Children</th>\n",
       "      <th>Age</th>\n",
       "      <th>Income</th>\n",
       "      <th>Outage_sec_perweek</th>\n",
       "      <th>Yearly_equip_failure</th>\n",
       "      <th>Tenure</th>\n",
       "      <th>MonthlyCharge</th>\n",
       "      <th>Bandwidth_GB_Year</th>\n",
       "    </tr>\n",
       "  </thead>\n",
       "  <tbody>\n",
       "    <tr>\n",
       "      <th>0</th>\n",
       "      <td>38</td>\n",
       "      <td>0</td>\n",
       "      <td>68</td>\n",
       "      <td>28561.99</td>\n",
       "      <td>7.978323</td>\n",
       "      <td>1</td>\n",
       "      <td>6.795513</td>\n",
       "      <td>172.455519</td>\n",
       "      <td>904.53611</td>\n",
       "    </tr>\n",
       "  </tbody>\n",
       "</table>\n",
       "</div>"
      ],
      "text/plain": [
       "   Population  Children  Age    Income  Outage_sec_perweek  \\\n",
       "0          38         0   68  28561.99            7.978323   \n",
       "\n",
       "   Yearly_equip_failure    Tenure  MonthlyCharge  Bandwidth_GB_Year  \n",
       "0                     1  6.795513     172.455519          904.53611  "
      ]
     },
     "execution_count": 12,
     "metadata": {},
     "output_type": "execute_result"
    }
   ],
   "source": [
    "ScaleData = dataset[['Population', 'Children', 'Age', 'Income', 'Outage_sec_perweek',\n",
    "       'Yearly_equip_failure', 'Tenure', 'MonthlyCharge', 'Bandwidth_GB_Year']].copy()\n",
    "ScaleData.head(1)"
   ]
  },
  {
   "cell_type": "markdown",
   "id": "7830b1cf",
   "metadata": {},
   "source": [
    "Step 5. Scale continuous dataset variables"
   ]
  },
  {
   "cell_type": "code",
   "execution_count": 13,
   "id": "2de07ec8",
   "metadata": {},
   "outputs": [
    {
     "data": {
      "text/html": [
       "<div>\n",
       "<style scoped>\n",
       "    .dataframe tbody tr th:only-of-type {\n",
       "        vertical-align: middle;\n",
       "    }\n",
       "\n",
       "    .dataframe tbody tr th {\n",
       "        vertical-align: top;\n",
       "    }\n",
       "\n",
       "    .dataframe thead th {\n",
       "        text-align: right;\n",
       "    }\n",
       "</style>\n",
       "<table border=\"1\" class=\"dataframe\">\n",
       "  <thead>\n",
       "    <tr style=\"text-align: right;\">\n",
       "      <th></th>\n",
       "      <th>Population</th>\n",
       "      <th>Children</th>\n",
       "      <th>Age</th>\n",
       "      <th>Income</th>\n",
       "      <th>Outage_sec_perweek</th>\n",
       "      <th>Yearly_equip_failure</th>\n",
       "      <th>Tenure</th>\n",
       "      <th>MonthlyCharge</th>\n",
       "      <th>Bandwidth_GB_Year</th>\n",
       "    </tr>\n",
       "  </thead>\n",
       "  <tbody>\n",
       "    <tr>\n",
       "      <th>0</th>\n",
       "      <td>-1.840405</td>\n",
       "      <td>-1.374962</td>\n",
       "      <td>0.740679</td>\n",
       "      <td>-0.197902</td>\n",
       "      <td>-0.679058</td>\n",
       "      <td>1.387427</td>\n",
       "      <td>-1.040649</td>\n",
       "      <td>0.087956</td>\n",
       "      <td>-1.213051</td>\n",
       "    </tr>\n",
       "  </tbody>\n",
       "</table>\n",
       "</div>"
      ],
      "text/plain": [
       "   Population  Children       Age    Income  Outage_sec_perweek  \\\n",
       "0   -1.840405 -1.374962  0.740679 -0.197902           -0.679058   \n",
       "\n",
       "   Yearly_equip_failure    Tenure  MonthlyCharge  Bandwidth_GB_Year  \n",
       "0              1.387427 -1.040649       0.087956          -1.213051  "
      ]
     },
     "execution_count": 13,
     "metadata": {},
     "output_type": "execute_result"
    }
   ],
   "source": [
    "from sklearn.preprocessing import PowerTransformer \n",
    "\n",
    "scaler = PowerTransformer(method='yeo-johnson') #(Roy 2022)\n",
    "numberOfColumns = ScaleData.columns[ScaleData.dtypes.apply(lambda c: np.issubdtype(c, np.number))]\n",
    "\n",
    "ScaleData[numberOfColumns] = scaler.fit_transform(ScaleData[numberOfColumns])\n",
    "\n",
    "# Map Churn to Yes = 0 and No = 1\n",
    "ScaleData.head(1)"
   ]
  },
  {
   "cell_type": "markdown",
   "id": "f348cd92",
   "metadata": {},
   "source": [
    "#### C.4 Save cleaned continuous variables dataset"
   ]
  },
  {
   "cell_type": "code",
   "execution_count": 14,
   "id": "abc3391a",
   "metadata": {},
   "outputs": [],
   "source": [
    "#Prepared data set saved\n",
    "ScaleData.to_csv('churn_dataCleanedp2.csv')"
   ]
  },
  {
   "cell_type": "markdown",
   "id": "acb33b04",
   "metadata": {},
   "source": [
    "### Part IV: Analysis\n",
    "\n"
   ]
  },
  {
   "cell_type": "markdown",
   "id": "019bf4bd",
   "metadata": {},
   "source": [
    "#### D-1. Principle Component Analysis matrix of all the principal components:"
   ]
  },
  {
   "cell_type": "code",
   "execution_count": 15,
   "id": "4af95a5b",
   "metadata": {},
   "outputs": [],
   "source": [
    "from sklearn.decomposition import PCA\n",
    "pca = PCA(n_components=ScaleData.shape[1])"
   ]
  },
  {
   "cell_type": "markdown",
   "id": "6c1c138f",
   "metadata": {},
   "source": [
    "Step 1. Matrix of all the principal components"
   ]
  },
  {
   "cell_type": "code",
   "execution_count": 16,
   "id": "0f630cf2",
   "metadata": {},
   "outputs": [
    {
     "data": {
      "text/html": [
       "<div>\n",
       "<style scoped>\n",
       "    .dataframe tbody tr th:only-of-type {\n",
       "        vertical-align: middle;\n",
       "    }\n",
       "\n",
       "    .dataframe tbody tr th {\n",
       "        vertical-align: top;\n",
       "    }\n",
       "\n",
       "    .dataframe thead th {\n",
       "        text-align: right;\n",
       "    }\n",
       "</style>\n",
       "<table border=\"1\" class=\"dataframe\">\n",
       "  <thead>\n",
       "    <tr style=\"text-align: right;\">\n",
       "      <th></th>\n",
       "      <th>0</th>\n",
       "      <th>1</th>\n",
       "      <th>2</th>\n",
       "      <th>3</th>\n",
       "      <th>4</th>\n",
       "      <th>5</th>\n",
       "      <th>6</th>\n",
       "      <th>7</th>\n",
       "      <th>8</th>\n",
       "    </tr>\n",
       "  </thead>\n",
       "  <tbody>\n",
       "    <tr>\n",
       "      <th>0</th>\n",
       "      <td>1.606698</td>\n",
       "      <td>-0.269006</td>\n",
       "      <td>-0.563811</td>\n",
       "      <td>1.380589</td>\n",
       "      <td>-1.558140</td>\n",
       "      <td>1.835942</td>\n",
       "      <td>0.294206</td>\n",
       "      <td>0.213332</td>\n",
       "      <td>-0.073003</td>\n",
       "    </tr>\n",
       "    <tr>\n",
       "      <th>1</th>\n",
       "      <td>2.054671</td>\n",
       "      <td>-0.618537</td>\n",
       "      <td>1.977310</td>\n",
       "      <td>0.467148</td>\n",
       "      <td>0.086719</td>\n",
       "      <td>0.071554</td>\n",
       "      <td>0.136978</td>\n",
       "      <td>1.723609</td>\n",
       "      <td>0.186847</td>\n",
       "    </tr>\n",
       "    <tr>\n",
       "      <th>2</th>\n",
       "      <td>0.599982</td>\n",
       "      <td>0.078450</td>\n",
       "      <td>0.986492</td>\n",
       "      <td>1.725199</td>\n",
       "      <td>0.263169</td>\n",
       "      <td>-0.377044</td>\n",
       "      <td>-0.993056</td>\n",
       "      <td>-0.062407</td>\n",
       "      <td>0.016989</td>\n",
       "    </tr>\n",
       "    <tr>\n",
       "      <th>3</th>\n",
       "      <td>0.600268</td>\n",
       "      <td>-0.465472</td>\n",
       "      <td>0.458793</td>\n",
       "      <td>0.148668</td>\n",
       "      <td>1.620006</td>\n",
       "      <td>-0.553692</td>\n",
       "      <td>0.958111</td>\n",
       "      <td>-1.354630</td>\n",
       "      <td>0.095660</td>\n",
       "    </tr>\n",
       "    <tr>\n",
       "      <th>4</th>\n",
       "      <td>2.601925</td>\n",
       "      <td>-1.380012</td>\n",
       "      <td>-0.924376</td>\n",
       "      <td>1.142163</td>\n",
       "      <td>-1.308384</td>\n",
       "      <td>-0.556201</td>\n",
       "      <td>0.804483</td>\n",
       "      <td>0.263065</td>\n",
       "      <td>-0.164583</td>\n",
       "    </tr>\n",
       "  </tbody>\n",
       "</table>\n",
       "</div>"
      ],
      "text/plain": [
       "          0         1         2         3         4         5         6  \\\n",
       "0  1.606698 -0.269006 -0.563811  1.380589 -1.558140  1.835942  0.294206   \n",
       "1  2.054671 -0.618537  1.977310  0.467148  0.086719  0.071554  0.136978   \n",
       "2  0.599982  0.078450  0.986492  1.725199  0.263169 -0.377044 -0.993056   \n",
       "3  0.600268 -0.465472  0.458793  0.148668  1.620006 -0.553692  0.958111   \n",
       "4  2.601925 -1.380012 -0.924376  1.142163 -1.308384 -0.556201  0.804483   \n",
       "\n",
       "          7         8  \n",
       "0  0.213332 -0.073003  \n",
       "1  1.723609  0.186847  \n",
       "2 -0.062407  0.016989  \n",
       "3 -1.354630  0.095660  \n",
       "4  0.263065 -0.164583  "
      ]
     },
     "execution_count": 16,
     "metadata": {},
     "output_type": "execute_result"
    }
   ],
   "source": [
    "#(Dimensionality Reduction With PCA 2022)\n",
    "df_churn_pca = pd.DataFrame(pca.fit_transform(ScaleData))\n",
    "df_churn_pca.head()"
   ]
  },
  {
   "cell_type": "markdown",
   "id": "56bcf926",
   "metadata": {},
   "source": [
    "#### D-2. Identify the total number of principal components using the elbow rule "
   ]
  },
  {
   "cell_type": "code",
   "execution_count": 17,
   "id": "45d3bcd6",
   "metadata": {},
   "outputs": [
    {
     "data": {
      "image/png": "[encoded data removed]",
      "text/plain": [
       "<Figure size 432x288 with 1 Axes>"
      ]
     },
     "metadata": {
      "needs_background": "light"
     },
     "output_type": "display_data"
    }
   ],
   "source": [
    "# scree plot displaying the normalized dataset\n",
    "pca.fit(ScaleData)\n",
    "df_pca = pd.DataFrame(pca.transform(ScaleData),\n",
    "columns=['PC1','PC2','PC3','PC4','PC5','PC6','PC7','PC8','PC9'])\n",
    "plt.plot(pca.explained_variance_ratio_)\n",
    "plt.xlabel('Number of Components')\n",
    "plt.ylabel('Explained Variance')\n",
    "plt.show()"
   ]
  },
  {
   "cell_type": "markdown",
   "id": "fabe56a8",
   "metadata": {},
   "source": [
    "\n",
    "#### D-2b. Kaiser criterion principal components were converted to eigenvalues to explain variance in the set. Eigenvalues in the graph below that are greater than 1 are better than the average.  "
   ]
  },
  {
   "cell_type": "code",
   "execution_count": 18,
   "id": "e53140b8",
   "metadata": {},
   "outputs": [
    {
     "data": {
      "image/png": "[encoded data removed]",
      "text/plain": [
       "<Figure size 432x288 with 1 Axes>"
      ]
     },
     "metadata": {
      "needs_background": "light"
     },
     "output_type": "display_data"
    }
   ],
   "source": [
    "# convert dataset to eigenvalues\n",
    "cov_matrix = np.dot(ScaleData.T, ScaleData) / ScaleData.shape[0]\n",
    "eigenvalues = [np.dot(eigenvector.T, np.dot(cov_matrix, eigenvector)) for eigenvector in pca.components_]\n",
    "plt.plot(eigenvalues)\n",
    "plt.xlabel('Number of Components')\n",
    "plt.ylabel('Eigenvalue')\n",
    "plt.show()"
   ]
  },
  {
   "cell_type": "markdown",
   "id": "f9930d01",
   "metadata": {},
   "source": [
    "#### D-3 Identify the variance of each of the principal components"
   ]
  },
  {
   "cell_type": "code",
   "execution_count": 19,
   "id": "5a05609b",
   "metadata": {},
   "outputs": [
    {
     "data": {
      "image/png": "[encoded data removed]",
      "text/plain": [
       "<Figure size 1080x360 with 1 Axes>"
      ]
     },
     "metadata": {},
     "output_type": "display_data"
    }
   ],
   "source": [
    "# Identify the variance of each of the principal components \n",
    "#(Cheng 2022)\n",
    "import seaborn as sns\n",
    "PC_components = np.arange(pca.n_components_) + 1\n",
    "\n",
    "_ = sns.set(style='whitegrid', font_scale=1.2)\n",
    "fig, ax = plt.subplots(figsize=(15, 5))\n",
    "_ = sns.barplot(x=PC_components, y=pca.explained_variance_ratio_, color='b')\n",
    "_ = sns.lineplot(x=PC_components-1, y=np.cumsum(pca.explained_variance_ratio_), color='black', linestyle='-', linewidth=2, marker='o', markersize=8)\n",
    "\n",
    "plt.title('Cumulative Explained Variance Ratio')\n",
    "plt.xlabel('Principal Components')\n",
    "plt.ylabel('Variance Explained')\n",
    "plt.ylim(0, 1)\n",
    "plt.show()"
   ]
  },
  {
   "cell_type": "markdown",
   "id": "0cb4e58d",
   "metadata": {},
   "source": [
    "#### D-Result: PCA with eight components. "
   ]
  },
  {
   "cell_type": "code",
   "execution_count": 20,
   "id": "c557f5b9",
   "metadata": {},
   "outputs": [
    {
     "data": {
      "text/html": [
       "<div>\n",
       "<style scoped>\n",
       "    .dataframe tbody tr th:only-of-type {\n",
       "        vertical-align: middle;\n",
       "    }\n",
       "\n",
       "    .dataframe tbody tr th {\n",
       "        vertical-align: top;\n",
       "    }\n",
       "\n",
       "    .dataframe thead th {\n",
       "        text-align: right;\n",
       "    }\n",
       "</style>\n",
       "<table border=\"1\" class=\"dataframe\">\n",
       "  <thead>\n",
       "    <tr style=\"text-align: right;\">\n",
       "      <th></th>\n",
       "      <th>PC1</th>\n",
       "      <th>PC2</th>\n",
       "      <th>PC3</th>\n",
       "      <th>PC4</th>\n",
       "      <th>PC5</th>\n",
       "      <th>PC6</th>\n",
       "      <th>PC7</th>\n",
       "      <th>PC8</th>\n",
       "    </tr>\n",
       "  </thead>\n",
       "  <tbody>\n",
       "    <tr>\n",
       "      <th>0</th>\n",
       "      <td>1.606698</td>\n",
       "      <td>-0.269006</td>\n",
       "      <td>-0.563811</td>\n",
       "      <td>1.380589</td>\n",
       "      <td>-1.558140</td>\n",
       "      <td>1.835942</td>\n",
       "      <td>0.294206</td>\n",
       "      <td>0.213332</td>\n",
       "    </tr>\n",
       "    <tr>\n",
       "      <th>1</th>\n",
       "      <td>2.054671</td>\n",
       "      <td>-0.618537</td>\n",
       "      <td>1.977310</td>\n",
       "      <td>0.467148</td>\n",
       "      <td>0.086719</td>\n",
       "      <td>0.071554</td>\n",
       "      <td>0.136978</td>\n",
       "      <td>1.723609</td>\n",
       "    </tr>\n",
       "    <tr>\n",
       "      <th>2</th>\n",
       "      <td>0.599982</td>\n",
       "      <td>0.078450</td>\n",
       "      <td>0.986492</td>\n",
       "      <td>1.725199</td>\n",
       "      <td>0.263169</td>\n",
       "      <td>-0.377044</td>\n",
       "      <td>-0.993056</td>\n",
       "      <td>-0.062407</td>\n",
       "    </tr>\n",
       "    <tr>\n",
       "      <th>3</th>\n",
       "      <td>0.600268</td>\n",
       "      <td>-0.465472</td>\n",
       "      <td>0.458793</td>\n",
       "      <td>0.148668</td>\n",
       "      <td>1.620006</td>\n",
       "      <td>-0.553692</td>\n",
       "      <td>0.958111</td>\n",
       "      <td>-1.354630</td>\n",
       "    </tr>\n",
       "    <tr>\n",
       "      <th>4</th>\n",
       "      <td>2.601925</td>\n",
       "      <td>-1.380012</td>\n",
       "      <td>-0.924376</td>\n",
       "      <td>1.142163</td>\n",
       "      <td>-1.308384</td>\n",
       "      <td>-0.556201</td>\n",
       "      <td>0.804483</td>\n",
       "      <td>0.263065</td>\n",
       "    </tr>\n",
       "  </tbody>\n",
       "</table>\n",
       "</div>"
      ],
      "text/plain": [
       "        PC1       PC2       PC3       PC4       PC5       PC6       PC7  \\\n",
       "0  1.606698 -0.269006 -0.563811  1.380589 -1.558140  1.835942  0.294206   \n",
       "1  2.054671 -0.618537  1.977310  0.467148  0.086719  0.071554  0.136978   \n",
       "2  0.599982  0.078450  0.986492  1.725199  0.263169 -0.377044 -0.993056   \n",
       "3  0.600268 -0.465472  0.458793  0.148668  1.620006 -0.553692  0.958111   \n",
       "4  2.601925 -1.380012 -0.924376  1.142163 -1.308384 -0.556201  0.804483   \n",
       "\n",
       "        PC8  \n",
       "0  0.213332  \n",
       "1  1.723609  \n",
       "2 -0.062407  \n",
       "3 -1.354630  \n",
       "4  0.263065  "
      ]
     },
     "execution_count": 20,
     "metadata": {},
     "output_type": "execute_result"
    }
   ],
   "source": [
    "# Perform PCA (Choose n_components to keep)\n",
    "#(Cheng 2022)\n",
    "\n",
    "\n",
    "pca = PCA(n_components=8)\n",
    "pca_array = pca.fit_transform(ScaleData)\n",
    "\n",
    "# Convert back to DataFrame for readability\n",
    "df_pca = pd.DataFrame(data=pca_array)\n",
    "df_pca.columns = ['PC' + str(col+1) for col in df_pca.columns.values]\n",
    "#df_pca['label'] = y\n",
    "\n",
    "df_pca.head()"
   ]
  },
  {
   "cell_type": "markdown",
   "id": "09042a4e",
   "metadata": {},
   "source": [
    "#### D-Result: Heatmap to confirm dimensionality reduction. "
   ]
  },
  {
   "cell_type": "code",
   "execution_count": 21,
   "id": "978d24b3",
   "metadata": {},
   "outputs": [
    {
     "data": {
      "text/plain": [
       "<AxesSubplot:>"
      ]
     },
     "execution_count": 21,
     "metadata": {},
     "output_type": "execute_result"
    },
    {
     "data": {
      "image/png": "[encoded data removed]",
      "text/plain": [
       "<Figure size 432x288 with 2 Axes>"
      ]
     },
     "metadata": {},
     "output_type": "display_data"
    }
   ],
   "source": [
    "#Co-relation between features after PCA\n",
    "#(Reduce Data Dimensionality using PCA 2022)\n",
    "\n",
    "sns.heatmap(df_pca.corr())\n"
   ]
  },
  {
   "cell_type": "markdown",
   "id": "ba661152",
   "metadata": {},
   "source": [
    "#### D-4. Summary of results."
   ]
  },
  {
   "cell_type": "markdown",
   "id": "9382eb55",
   "metadata": {},
   "source": [
    "First, a matrix of standardized variables shows 9 Principal Components (PCs). Next, a scree plot identifies the number of useful PCs using the Elbow Method, but the result is unclear. Instead, the Kaiser Rule selects PCs with eigenvalues above 1. The resulting graph in D-2b clearly shows there are approximately eight PCs that score at one or more; this is useful to now select a total of eight relevant PCs and reduce the collection by 1. Graph D-3 then shows the variance contained in each dataset variable along with a line graph to indicate the ratio of cumulative explained variance. Last, rerunning the PCA only using the first eight components. \n",
    "\n",
    "Note: \n",
    "The final heatmap graph demonstrates that the dataset contains no correlation among variables. This proves that the dimensionality of the original data has been reduced by the fact that no correlation exists among the remain eight features in the dataset. (Reduce Data Dimensionality using PCA 2022)\n"
   ]
  },
  {
   "cell_type": "markdown",
   "id": "e79f2639",
   "metadata": {},
   "source": [
    "### Sources:\n",
    "\n",
    "Cheng C. Principal Component Analysis (PCA) Explained Visually with Zero Math. Medium. Published February 5, 2022. https://towardsdatascience.com/principal-component-analysis-pca-explained-visually-with-zero-math-1cbf392b9e7d\n",
    "\n",
    "<p/>\n",
    "\n",
    "Dimensionality Reduction With PCA. Step-by-step Data Science. Published May 20, 2019. Accessed March 23, 2022. https://h1ros.github.io/posts/dimensionality-reduction-with-pca/\n",
    "\n",
    "<p/>\n",
    "\n",
    "Galarnyk M. PCA using Python (scikit-learn). Medium. Published December 5, 2017. https://towardsdatascience.com/pca-using-python-scikit-learn-e653f8989e60\n",
    "\n",
    "\n",
    "<p/>\n",
    "\n",
    "PCA in Machine Learning: Assumptions, Steps to Apply & Applications. upGrad blog. Published November 12, 2020. https://www.upgrad.com/blog/pca-in-machine-learning/#Assumptions_in_PCA \n",
    "\n",
    "<p/>\n",
    "\n",
    "Principal Component Analysis (PCA) - Better Explained. ML+. Published March 23, 2019. https://www.machinelearningplus.com/machine-learning/principal-components-analysis-pca-better-explained/\n",
    "\n",
    "<p/>\n",
    "\n",
    "Reduce Data Dimensionality using PCA - Python. GeeksforGeeks. Published March 1, 2022. Accessed March 23, 2022. https://www.geeksforgeeks.org/reduce-data-dimentionality-using-pca-python/\n",
    "\n",
    "\n",
    "\n"
   ]
  },
  {
   "cell_type": "code",
   "execution_count": null,
   "id": "628c101a",
   "metadata": {},
   "outputs": [],
   "source": []
  }
 ],
 "metadata": {
  "kernelspec": {
   "display_name": "Python 3 (ipykernel)",
   "language": "python",
   "name": "python3"
  },
  "language_info": {
   "codemirror_mode": {
    "name": "ipython",
    "version": 3
   },
   "file_extension": ".py",
   "mimetype": "text/x-python",
   "name": "python",
   "nbconvert_exporter": "python",
   "pygments_lexer": "ipython3",
   "version": "3.9.7"
  }
 },
 "nbformat": 4,
 "nbformat_minor": 5
}
